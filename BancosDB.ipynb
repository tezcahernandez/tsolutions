{
 "cells": [
  {
   "cell_type": "code",
   "execution_count": 108,
   "metadata": {},
   "outputs": [],
   "source": [
    "#Importar csv\n",
    "\n",
    "#modules\n",
    "import os\n",
    "import csv\n",
    "import pandas as pd\n",
    "\n",
    "#Import CSV\n",
    "csvpath = os.path.join(\"Datasets\", \"BancosDB.csv\")\n",
    "\n",
    "# Import the Bancos.csv file as a DataFrame\n",
    "BancosDB = pd.read_csv(csvpath, encoding=\"utf-8\")"
   ]
  },
  {
   "cell_type": "code",
   "execution_count": 109,
   "metadata": {},
   "outputs": [],
   "source": [
    "#Limpiar Base de Datos\n",
    "    #revisar Estados\n",
    "BancosDB.State.unique()\n",
    "\n",
    "    #Eliminar Estado = 'Migracion'\n",
    "BancosDB = BancosDB[BancosDB.State != 'Migración']\n",
    "BancosDB.State.unique()\n",
    "\n",
    "    #Eliminar ',' de BancosDB\n",
    "BancosDB['Cant. De ATMs'] = BancosDB['Cant. De ATMs'].str.replace(',','')\n",
    "BancosDB['Transaciones a traves de Celular'] = BancosDB['Transaciones a traves de Celular'].str.replace(',','')\n",
    "BancosDB['Cant. De Contratos de Tarjeta de Credito'] = BancosDB['Cant. De Contratos de Tarjeta de Credito'].str.replace(',','')\n",
    "BancosDB['Cant. Sucursal'] = BancosDB['Cant. Sucursal'].str.replace(',','')\n",
    "\n",
    "    #Cambiar type de columnas\n",
    "BancosDB['Cant. De ATMs'] = pd.to_numeric(BancosDB['Cant. De ATMs'])\n",
    "BancosDB['Transaciones a traves de Celular'] = pd.to_numeric(BancosDB['Transaciones a traves de Celular'])\n",
    "BancosDB['Cant. De Contratos de Tarjeta de Credito'] = pd.to_numeric(BancosDB['Cant. De Contratos de Tarjeta de Credito'])\n",
    "BancosDB['Cant. Sucursal'] = pd.to_numeric(BancosDB['Cant. Sucursal'])"
   ]
  },
  {
   "cell_type": "code",
   "execution_count": 110,
   "metadata": {},
   "outputs": [],
   "source": [
    "#Crear DataFrame para mes igual 1\n",
    "BancosDB_mes1 = BancosDB.loc[BancosDB.Month==1,:]\n",
    "BancosDB_mes1 = BancosDB_mes1.reset_index()\n",
    "\n",
    "#Crear DataFrame para mes igual 12\n",
    "BancosDB_mes12 = BancosDB.loc[BancosDB.Month==12,:]\n",
    "BancosDB_mes12 = BancosDB_mes12.reset_index()"
   ]
  },
  {
   "cell_type": "code",
   "execution_count": 111,
   "metadata": {},
   "outputs": [],
   "source": [
    "# Crear DataFrame Final\n",
    "BancosVf = pd.DataFrame ({\n",
    "    \"State\":[],\n",
    "    \"Crec. ATMs\":[],\n",
    "    \"Crec. Transacciones por Celular\":[],\n",
    "    \"Crec. Tarjetas de Credito\":[],\n",
    "    \"Crec. Surcursales\":[]  \n",
    "})\n",
    "\n",
    "#Guardar Estados en Nuevo DataFrame\n",
    "BancosVf['State'] = BancosDB_mes1['State']"
   ]
  },
  {
   "cell_type": "code",
   "execution_count": 112,
   "metadata": {},
   "outputs": [],
   "source": [
    "# Guardar Datos en DataFrame Final\n",
    "BancosVf['Crec. ATMs'] = ((BancosDB_mes12['Cant. De ATMs'] / BancosDB_mes1['Cant. De ATMs'])-1)*100\n",
    "BancosVf['Crec. Transacciones por Celular'] = ((BancosDB_mes12['Transaciones a traves de Celular'] / BancosDB_mes1['Transaciones a traves de Celular'])-1)*100\n",
    "BancosVf['Crec. Tarjetas de Credito'] = ((BancosDB_mes12['Cant. De Contratos de Tarjeta de Credito'] / BancosDB_mes1['Cant. De Contratos de Tarjeta de Credito'])-1)*100\n",
    "BancosVf['Crec. Surcursales'] = ((BancosDB_mes12['Cant. Sucursal'] / BancosDB_mes1['Cant. Sucursal'])-1)*100\n",
    "\n",
    "#Guardar Nivel Actual\n",
    "BancosVf['Cant. ATMs'] = BancosDB_mes12['Cant. De ATMs']\n",
    "BancosVf['Cant.Transacciones por Celular'] = BancosDB_mes12['Transaciones a traves de Celular']\n",
    "BancosVf['Cant. Tarjetas de Credito'] = BancosDB_mes12['Cant. De Contratos de Tarjeta de Credito']\n",
    "BancosVf['Cant. Surcursales'] = BancosDB_mes12['Cant. Sucursal']\n",
    "\n"
   ]
  },
  {
   "cell_type": "code",
   "execution_count": 113,
   "metadata": {},
   "outputs": [
    {
     "ename": "PermissionError",
     "evalue": "[Errno 13] Permission denied: 'Datasets\\\\BancosVf.csv'",
     "output_type": "error",
     "traceback": [
      "\u001b[1;31m---------------------------------------------------------------------------\u001b[0m",
      "\u001b[1;31mPermissionError\u001b[0m                           Traceback (most recent call last)",
      "\u001b[1;32m<ipython-input-113-d04519e73cf4>\u001b[0m in \u001b[0;36m<module>\u001b[1;34m\u001b[0m\n\u001b[0;32m      1\u001b[0m \u001b[1;31m#Exportar Base de Datos Final\u001b[0m\u001b[1;33m\u001b[0m\u001b[1;33m\u001b[0m\u001b[1;33m\u001b[0m\u001b[0m\n\u001b[1;32m----> 2\u001b[1;33m \u001b[0mBancosVf\u001b[0m\u001b[1;33m.\u001b[0m\u001b[0mto_csv\u001b[0m\u001b[1;33m(\u001b[0m\u001b[1;34mr'Datasets\\BancosVf.csv'\u001b[0m\u001b[1;33m)\u001b[0m\u001b[1;33m\u001b[0m\u001b[1;33m\u001b[0m\u001b[0m\n\u001b[0m",
      "\u001b[1;32mC:\\Anaconda3\\lib\\site-packages\\pandas\\core\\frame.py\u001b[0m in \u001b[0;36mto_csv\u001b[1;34m(self, path_or_buf, sep, na_rep, float_format, columns, header, index, index_label, mode, encoding, compression, quoting, quotechar, line_terminator, chunksize, tupleize_cols, date_format, doublequote, escapechar, decimal)\u001b[0m\n\u001b[0;32m   1743\u001b[0m                                  \u001b[0mdoublequote\u001b[0m\u001b[1;33m=\u001b[0m\u001b[0mdoublequote\u001b[0m\u001b[1;33m,\u001b[0m\u001b[1;33m\u001b[0m\u001b[1;33m\u001b[0m\u001b[0m\n\u001b[0;32m   1744\u001b[0m                                  escapechar=escapechar, decimal=decimal)\n\u001b[1;32m-> 1745\u001b[1;33m         \u001b[0mformatter\u001b[0m\u001b[1;33m.\u001b[0m\u001b[0msave\u001b[0m\u001b[1;33m(\u001b[0m\u001b[1;33m)\u001b[0m\u001b[1;33m\u001b[0m\u001b[1;33m\u001b[0m\u001b[0m\n\u001b[0m\u001b[0;32m   1746\u001b[0m \u001b[1;33m\u001b[0m\u001b[0m\n\u001b[0;32m   1747\u001b[0m         \u001b[1;32mif\u001b[0m \u001b[0mpath_or_buf\u001b[0m \u001b[1;32mis\u001b[0m \u001b[1;32mNone\u001b[0m\u001b[1;33m:\u001b[0m\u001b[1;33m\u001b[0m\u001b[1;33m\u001b[0m\u001b[0m\n",
      "\u001b[1;32mC:\\Anaconda3\\lib\\site-packages\\pandas\\io\\formats\\csvs.py\u001b[0m in \u001b[0;36msave\u001b[1;34m(self)\u001b[0m\n\u001b[0;32m    154\u001b[0m             f, handles = _get_handle(self.path_or_buf, self.mode,\n\u001b[0;32m    155\u001b[0m                                      \u001b[0mencoding\u001b[0m\u001b[1;33m=\u001b[0m\u001b[0mencoding\u001b[0m\u001b[1;33m,\u001b[0m\u001b[1;33m\u001b[0m\u001b[1;33m\u001b[0m\u001b[0m\n\u001b[1;32m--> 156\u001b[1;33m                                      compression=self.compression)\n\u001b[0m\u001b[0;32m    157\u001b[0m             \u001b[0mclose\u001b[0m \u001b[1;33m=\u001b[0m \u001b[1;32mTrue\u001b[0m\u001b[1;33m\u001b[0m\u001b[1;33m\u001b[0m\u001b[0m\n\u001b[0;32m    158\u001b[0m \u001b[1;33m\u001b[0m\u001b[0m\n",
      "\u001b[1;32mC:\\Anaconda3\\lib\\site-packages\\pandas\\io\\common.py\u001b[0m in \u001b[0;36m_get_handle\u001b[1;34m(path_or_buf, mode, encoding, compression, memory_map, is_text)\u001b[0m\n\u001b[0;32m    398\u001b[0m         \u001b[1;32melif\u001b[0m \u001b[0mencoding\u001b[0m\u001b[1;33m:\u001b[0m\u001b[1;33m\u001b[0m\u001b[1;33m\u001b[0m\u001b[0m\n\u001b[0;32m    399\u001b[0m             \u001b[1;31m# Python 3 and encoding\u001b[0m\u001b[1;33m\u001b[0m\u001b[1;33m\u001b[0m\u001b[1;33m\u001b[0m\u001b[0m\n\u001b[1;32m--> 400\u001b[1;33m             \u001b[0mf\u001b[0m \u001b[1;33m=\u001b[0m \u001b[0mopen\u001b[0m\u001b[1;33m(\u001b[0m\u001b[0mpath_or_buf\u001b[0m\u001b[1;33m,\u001b[0m \u001b[0mmode\u001b[0m\u001b[1;33m,\u001b[0m \u001b[0mencoding\u001b[0m\u001b[1;33m=\u001b[0m\u001b[0mencoding\u001b[0m\u001b[1;33m)\u001b[0m\u001b[1;33m\u001b[0m\u001b[1;33m\u001b[0m\u001b[0m\n\u001b[0m\u001b[0;32m    401\u001b[0m         \u001b[1;32melif\u001b[0m \u001b[0mis_text\u001b[0m\u001b[1;33m:\u001b[0m\u001b[1;33m\u001b[0m\u001b[1;33m\u001b[0m\u001b[0m\n\u001b[0;32m    402\u001b[0m             \u001b[1;31m# Python 3 and no explicit encoding\u001b[0m\u001b[1;33m\u001b[0m\u001b[1;33m\u001b[0m\u001b[1;33m\u001b[0m\u001b[0m\n",
      "\u001b[1;31mPermissionError\u001b[0m: [Errno 13] Permission denied: 'Datasets\\\\BancosVf.csv'"
     ]
    }
   ],
   "source": [
    "#Exportar Base de Datos Final\n",
    "BancosVf.to_csv(r'Datasets\\BancosVf.csv')"
   ]
  },
  {
   "cell_type": "code",
   "execution_count": null,
   "metadata": {},
   "outputs": [],
   "source": []
  },
  {
   "cell_type": "code",
   "execution_count": null,
   "metadata": {},
   "outputs": [],
   "source": []
  }
 ],
 "metadata": {
  "kernelspec": {
   "display_name": "Python 3",
   "language": "python",
   "name": "python3"
  },
  "language_info": {
   "codemirror_mode": {
    "name": "ipython",
    "version": 3
   },
   "file_extension": ".py",
   "mimetype": "text/x-python",
   "name": "python",
   "nbconvert_exporter": "python",
   "pygments_lexer": "ipython3",
   "version": "3.7.1"
  }
 },
 "nbformat": 4,
 "nbformat_minor": 2
}
