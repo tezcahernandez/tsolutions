{
 "cells": [
  {
   "cell_type": "code",
   "execution_count": 108,
   "metadata": {},
   "outputs": [],
   "source": [
    "#Importar csv\n",
    "\n",
    "#modules\n",
    "import os\n",
    "import csv\n",
    "import pandas as pd\n",
    "\n",
    "import matplotlib\n",
    "import matplotlib.pyplot as plt\n",
    "import squarify\n",
    "\n",
    "#Import CSV\n",
    "csvpath = os.path.join(\"Datasets\", \"BancosDB.csv\")\n",
    "\n",
    "# Import the Bancos.csv file as a DataFrame\n",
    "BancosDB = pd.read_csv(csvpath, encoding=\"utf-8\")"
   ]
  },
  {
   "cell_type": "code",
   "execution_count": 109,
   "metadata": {},
   "outputs": [],
   "source": [
    "#Limpiar Base de Datos\n",
    "    #revisar Estados\n",
    "BancosDB.State.unique()\n",
    "\n",
    "    #Eliminar Estado = 'Migracion'\n",
    "BancosDB = BancosDB[BancosDB.State != 'Migración']\n",
    "BancosDB.State.unique()\n",
    "\n",
    "    #Eliminar ',' de BancosDB\n",
    "BancosDB['Cant. De ATMs'] = BancosDB['Cant. De ATMs'].str.replace(',','')\n",
    "BancosDB['Transaciones a traves de Celular'] = BancosDB['Transaciones a traves de Celular'].str.replace(',','')\n",
    "BancosDB['Cant. De Contratos de Tarjeta de Credito'] = BancosDB['Cant. De Contratos de Tarjeta de Credito'].str.replace(',','')\n",
    "BancosDB['Cant. Sucursal'] = BancosDB['Cant. Sucursal'].str.replace(',','')\n",
    "\n",
    "    #Cambiar type de columnas\n",
    "BancosDB['Cant. De ATMs'] = pd.to_numeric(BancosDB['Cant. De ATMs'])\n",
    "BancosDB['Transaciones a traves de Celular'] = pd.to_numeric(BancosDB['Transaciones a traves de Celular'])\n",
    "BancosDB['Cant. De Contratos de Tarjeta de Credito'] = pd.to_numeric(BancosDB['Cant. De Contratos de Tarjeta de Credito'])\n",
    "BancosDB['Cant. Sucursal'] = pd.to_numeric(BancosDB['Cant. Sucursal'])"
   ]
  },
  {
   "cell_type": "code",
   "execution_count": 110,
   "metadata": {},
   "outputs": [],
   "source": [
    "#Crear DataFrame para mes igual 1\n",
    "BancosDB_mes1 = BancosDB.loc[BancosDB.Month==1,:]\n",
    "BancosDB_mes1 = BancosDB_mes1.reset_index()\n",
    "\n",
    "#Crear DataFrame para mes igual 12\n",
    "BancosDB_mes12 = BancosDB.loc[BancosDB.Month==12,:]\n",
    "BancosDB_mes12 = BancosDB_mes12.reset_index()"
   ]
  },
  {
   "cell_type": "code",
   "execution_count": 111,
   "metadata": {},
   "outputs": [],
   "source": [
    "# Crear DataFrame Final\n",
    "BancosVf = pd.DataFrame ({\n",
    "    \"State\":[],\n",
    "    \"Crec. ATMs\":[],\n",
    "    \"Crec. Transacciones por Celular\":[],\n",
    "    \"Crec. Tarjetas de Credito\":[],\n",
    "    \"Crec. Surcursales\":[]  \n",
    "})\n",
    "\n",
    "#Guardar Estados en Nuevo DataFrame\n",
    "BancosVf['State'] = BancosDB_mes1['State']"
   ]
  },
  {
   "cell_type": "code",
   "execution_count": 112,
   "metadata": {},
   "outputs": [],
   "source": [
    "# Guardar Datos en DataFrame Final\n",
    "BancosVf['Crec. ATMs'] = ((BancosDB_mes12['Cant. De ATMs'] / BancosDB_mes1['Cant. De ATMs'])-1)*100\n",
    "BancosVf['Crec. Transacciones por Celular'] = ((BancosDB_mes12['Transaciones a traves de Celular'] / BancosDB_mes1['Transaciones a traves de Celular'])-1)*100\n",
    "BancosVf['Crec. Tarjetas de Credito'] = ((BancosDB_mes12['Cant. De Contratos de Tarjeta de Credito'] / BancosDB_mes1['Cant. De Contratos de Tarjeta de Credito'])-1)*100\n",
    "BancosVf['Crec. Surcursales'] = ((BancosDB_mes12['Cant. Sucursal'] / BancosDB_mes1['Cant. Sucursal'])-1)*100\n",
    "\n",
    "#Guardar Nivel Actual\n",
    "BancosVf['Cant. ATMs'] = BancosDB_mes12['Cant. De ATMs']\n",
    "BancosVf['Cant.Transacciones por Celular'] = BancosDB_mes12['Transaciones a traves de Celular']\n",
    "BancosVf['Cant. Tarjetas de Credito'] = BancosDB_mes12['Cant. De Contratos de Tarjeta de Credito']\n",
    "BancosVf['Cant. Surcursales'] = BancosDB_mes12['Cant. Sucursal']\n",
    "\n"
   ]
  },
  {
   "cell_type": "code",
   "execution_count": 115,
   "metadata": {},
   "outputs": [],
   "source": [
    "#Exportar Base de Datos Final\n",
    "BancosVf.to_csv(r'Datasets\\BancosVf.csv')"
   ]
  },
  {
   "cell_type": "code",
   "execution_count": null,
   "metadata": {},
   "outputs": [],
   "source": []
  },
  {
   "cell_type": "code",
   "execution_count": null,
   "metadata": {},
   "outputs": [],
   "source": []
  }
 ],
 "metadata": {
  "kernelspec": {
   "display_name": "Python 3",
   "language": "python",
   "name": "python3"
  },
  "language_info": {
   "codemirror_mode": {
    "name": "ipython",
    "version": 3
   },
   "file_extension": ".py",
   "mimetype": "text/x-python",
   "name": "python",
   "nbconvert_exporter": "python",
   "pygments_lexer": "ipython3",
   "version": "3.7.1"
  }
 },
 "nbformat": 4,
 "nbformat_minor": 2
}
